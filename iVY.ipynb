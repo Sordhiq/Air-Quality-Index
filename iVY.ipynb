{
 "cells": [
  {
   "cell_type": "code",
   "execution_count": 1,
   "metadata": {},
   "outputs": [],
   "source": [
    "#import all necessary libraries\n",
    "\n",
    "import numpy as np \n",
    "import pandas as pd\n",
    "from sklearn.preprocessing import LabelEncoder, StandardScaler\n",
    "from sklearn.model_selection import train_test_split\n",
    "from sklearn.linear_model import LogisticRegression\n",
    "from sklearn.metrics import classification_report, accuracy_score"
   ]
  },
  {
   "cell_type": "code",
   "execution_count": 2,
   "metadata": {},
   "outputs": [
    {
     "data": {
      "text/html": [
       "<div>\n",
       "<style scoped>\n",
       "    .dataframe tbody tr th:only-of-type {\n",
       "        vertical-align: middle;\n",
       "    }\n",
       "\n",
       "    .dataframe tbody tr th {\n",
       "        vertical-align: top;\n",
       "    }\n",
       "\n",
       "    .dataframe thead th {\n",
       "        text-align: right;\n",
       "    }\n",
       "</style>\n",
       "<table border=\"1\" class=\"dataframe\">\n",
       "  <thead>\n",
       "    <tr style=\"text-align: right;\">\n",
       "      <th></th>\n",
       "      <th>AGE</th>\n",
       "      <th>TEST</th>\n",
       "      <th>RESULT</th>\n",
       "      <th>DRUG</th>\n",
       "      <th>DOSAGE</th>\n",
       "      <th>RESISTANCE</th>\n",
       "    </tr>\n",
       "  </thead>\n",
       "  <tbody>\n",
       "    <tr>\n",
       "      <th>0</th>\n",
       "      <td>29</td>\n",
       "      <td>mRDT</td>\n",
       "      <td>NEG</td>\n",
       "      <td>Not ACT</td>\n",
       "      <td>0</td>\n",
       "      <td>0</td>\n",
       "    </tr>\n",
       "    <tr>\n",
       "      <th>1</th>\n",
       "      <td>21</td>\n",
       "      <td>mRDT</td>\n",
       "      <td>NEG</td>\n",
       "      <td>Not ACT</td>\n",
       "      <td>0</td>\n",
       "      <td>0</td>\n",
       "    </tr>\n",
       "    <tr>\n",
       "      <th>2</th>\n",
       "      <td>42</td>\n",
       "      <td>mRDT</td>\n",
       "      <td>POS</td>\n",
       "      <td>ACT</td>\n",
       "      <td>4</td>\n",
       "      <td>0</td>\n",
       "    </tr>\n",
       "    <tr>\n",
       "      <th>3</th>\n",
       "      <td>21</td>\n",
       "      <td>mRDT</td>\n",
       "      <td>NEG</td>\n",
       "      <td>Not ACT</td>\n",
       "      <td>0</td>\n",
       "      <td>0</td>\n",
       "    </tr>\n",
       "    <tr>\n",
       "      <th>4</th>\n",
       "      <td>60</td>\n",
       "      <td>mRDT</td>\n",
       "      <td>NEG</td>\n",
       "      <td>Not ACT</td>\n",
       "      <td>0</td>\n",
       "      <td>0</td>\n",
       "    </tr>\n",
       "  </tbody>\n",
       "</table>\n",
       "</div>"
      ],
      "text/plain": [
       "   AGE  TEST RESULT      DRUG  DOSAGE  RESISTANCE\n",
       "0   29  mRDT    NEG  Not ACT        0           0\n",
       "1   21  mRDT    NEG  Not ACT        0           0\n",
       "2   42  mRDT    POS      ACT        4           0\n",
       "3   21  mRDT    NEG  Not ACT        0           0\n",
       "4   60  mRDT    NEG  Not ACT        0           0"
      ]
     },
     "execution_count": 2,
     "metadata": {},
     "output_type": "execute_result"
    }
   ],
   "source": [
    "#importing the data and dropping the Serial Number column\n",
    "df = pd.read_excel(\"Ivy.xlsx\")\n",
    "df = df.drop([\"S/N\"], axis=1)\n",
    "df.head()"
   ]
  },
  {
   "cell_type": "code",
   "execution_count": 3,
   "metadata": {},
   "outputs": [
    {
     "data": {
      "text/html": [
       "<div>\n",
       "<style scoped>\n",
       "    .dataframe tbody tr th:only-of-type {\n",
       "        vertical-align: middle;\n",
       "    }\n",
       "\n",
       "    .dataframe tbody tr th {\n",
       "        vertical-align: top;\n",
       "    }\n",
       "\n",
       "    .dataframe thead th {\n",
       "        text-align: right;\n",
       "    }\n",
       "</style>\n",
       "<table border=\"1\" class=\"dataframe\">\n",
       "  <thead>\n",
       "    <tr style=\"text-align: right;\">\n",
       "      <th></th>\n",
       "      <th>AGE</th>\n",
       "      <th>DOSAGE</th>\n",
       "      <th>RESISTANCE</th>\n",
       "    </tr>\n",
       "  </thead>\n",
       "  <tbody>\n",
       "    <tr>\n",
       "      <th>count</th>\n",
       "      <td>500.000000</td>\n",
       "      <td>500.000000</td>\n",
       "      <td>500.000000</td>\n",
       "    </tr>\n",
       "    <tr>\n",
       "      <th>mean</th>\n",
       "      <td>30.918000</td>\n",
       "      <td>2.110000</td>\n",
       "      <td>0.316000</td>\n",
       "    </tr>\n",
       "    <tr>\n",
       "      <th>std</th>\n",
       "      <td>22.724967</td>\n",
       "      <td>1.811204</td>\n",
       "      <td>0.465379</td>\n",
       "    </tr>\n",
       "    <tr>\n",
       "      <th>min</th>\n",
       "      <td>1.000000</td>\n",
       "      <td>0.000000</td>\n",
       "      <td>0.000000</td>\n",
       "    </tr>\n",
       "    <tr>\n",
       "      <th>25%</th>\n",
       "      <td>13.750000</td>\n",
       "      <td>0.000000</td>\n",
       "      <td>0.000000</td>\n",
       "    </tr>\n",
       "    <tr>\n",
       "      <th>50%</th>\n",
       "      <td>25.000000</td>\n",
       "      <td>3.000000</td>\n",
       "      <td>0.000000</td>\n",
       "    </tr>\n",
       "    <tr>\n",
       "      <th>75%</th>\n",
       "      <td>43.000000</td>\n",
       "      <td>4.000000</td>\n",
       "      <td>1.000000</td>\n",
       "    </tr>\n",
       "    <tr>\n",
       "      <th>max</th>\n",
       "      <td>95.000000</td>\n",
       "      <td>4.000000</td>\n",
       "      <td>1.000000</td>\n",
       "    </tr>\n",
       "  </tbody>\n",
       "</table>\n",
       "</div>"
      ],
      "text/plain": [
       "              AGE      DOSAGE  RESISTANCE\n",
       "count  500.000000  500.000000  500.000000\n",
       "mean    30.918000    2.110000    0.316000\n",
       "std     22.724967    1.811204    0.465379\n",
       "min      1.000000    0.000000    0.000000\n",
       "25%     13.750000    0.000000    0.000000\n",
       "50%     25.000000    3.000000    0.000000\n",
       "75%     43.000000    4.000000    1.000000\n",
       "max     95.000000    4.000000    1.000000"
      ]
     },
     "execution_count": 3,
     "metadata": {},
     "output_type": "execute_result"
    }
   ],
   "source": [
    "#conducting Descriptive Statistics\n",
    "df.describe()"
   ]
  },
  {
   "cell_type": "code",
   "execution_count": 82,
   "metadata": {},
   "outputs": [
    {
     "name": "stdout",
     "output_type": "stream",
     "text": [
      "<class 'pandas.core.frame.DataFrame'>\n",
      "RangeIndex: 500 entries, 0 to 499\n",
      "Data columns (total 6 columns):\n",
      " #   Column      Non-Null Count  Dtype \n",
      "---  ------      --------------  ----- \n",
      " 0   AGE         500 non-null    int64 \n",
      " 1   TEST        500 non-null    object\n",
      " 2   RESULT      500 non-null    object\n",
      " 3   DRUG        500 non-null    object\n",
      " 4   DOSAGE      500 non-null    int64 \n",
      " 5   RESISTANCE  500 non-null    int64 \n",
      "dtypes: int64(3), object(3)\n",
      "memory usage: 23.6+ KB\n"
     ]
    }
   ],
   "source": [
    "df.info()"
   ]
  },
  {
   "cell_type": "code",
   "execution_count": 4,
   "metadata": {},
   "outputs": [],
   "source": [
    "#instantiating the LabelEncoder class to encode all categorical variables\n",
    "lb = LabelEncoder()"
   ]
  },
  {
   "cell_type": "code",
   "execution_count": 5,
   "metadata": {},
   "outputs": [
    {
     "data": {
      "text/html": [
       "<div>\n",
       "<style scoped>\n",
       "    .dataframe tbody tr th:only-of-type {\n",
       "        vertical-align: middle;\n",
       "    }\n",
       "\n",
       "    .dataframe tbody tr th {\n",
       "        vertical-align: top;\n",
       "    }\n",
       "\n",
       "    .dataframe thead th {\n",
       "        text-align: right;\n",
       "    }\n",
       "</style>\n",
       "<table border=\"1\" class=\"dataframe\">\n",
       "  <thead>\n",
       "    <tr style=\"text-align: right;\">\n",
       "      <th></th>\n",
       "      <th>AGE</th>\n",
       "      <th>TEST</th>\n",
       "      <th>RESULT</th>\n",
       "      <th>DRUG</th>\n",
       "      <th>DOSAGE</th>\n",
       "      <th>RESISTANCE</th>\n",
       "    </tr>\n",
       "  </thead>\n",
       "  <tbody>\n",
       "    <tr>\n",
       "      <th>0</th>\n",
       "      <td>29</td>\n",
       "      <td>2</td>\n",
       "      <td>0</td>\n",
       "      <td>1</td>\n",
       "      <td>0</td>\n",
       "      <td>0</td>\n",
       "    </tr>\n",
       "    <tr>\n",
       "      <th>1</th>\n",
       "      <td>21</td>\n",
       "      <td>2</td>\n",
       "      <td>0</td>\n",
       "      <td>1</td>\n",
       "      <td>0</td>\n",
       "      <td>0</td>\n",
       "    </tr>\n",
       "    <tr>\n",
       "      <th>2</th>\n",
       "      <td>42</td>\n",
       "      <td>2</td>\n",
       "      <td>1</td>\n",
       "      <td>0</td>\n",
       "      <td>4</td>\n",
       "      <td>0</td>\n",
       "    </tr>\n",
       "    <tr>\n",
       "      <th>3</th>\n",
       "      <td>21</td>\n",
       "      <td>2</td>\n",
       "      <td>0</td>\n",
       "      <td>1</td>\n",
       "      <td>0</td>\n",
       "      <td>0</td>\n",
       "    </tr>\n",
       "    <tr>\n",
       "      <th>4</th>\n",
       "      <td>60</td>\n",
       "      <td>2</td>\n",
       "      <td>0</td>\n",
       "      <td>1</td>\n",
       "      <td>0</td>\n",
       "      <td>0</td>\n",
       "    </tr>\n",
       "    <tr>\n",
       "      <th>...</th>\n",
       "      <td>...</td>\n",
       "      <td>...</td>\n",
       "      <td>...</td>\n",
       "      <td>...</td>\n",
       "      <td>...</td>\n",
       "      <td>...</td>\n",
       "    </tr>\n",
       "    <tr>\n",
       "      <th>495</th>\n",
       "      <td>2</td>\n",
       "      <td>0</td>\n",
       "      <td>1</td>\n",
       "      <td>0</td>\n",
       "      <td>1</td>\n",
       "      <td>0</td>\n",
       "    </tr>\n",
       "    <tr>\n",
       "      <th>496</th>\n",
       "      <td>2</td>\n",
       "      <td>0</td>\n",
       "      <td>1</td>\n",
       "      <td>0</td>\n",
       "      <td>2</td>\n",
       "      <td>1</td>\n",
       "    </tr>\n",
       "    <tr>\n",
       "      <th>497</th>\n",
       "      <td>62</td>\n",
       "      <td>0</td>\n",
       "      <td>1</td>\n",
       "      <td>0</td>\n",
       "      <td>4</td>\n",
       "      <td>1</td>\n",
       "    </tr>\n",
       "    <tr>\n",
       "      <th>498</th>\n",
       "      <td>22</td>\n",
       "      <td>2</td>\n",
       "      <td>1</td>\n",
       "      <td>0</td>\n",
       "      <td>4</td>\n",
       "      <td>1</td>\n",
       "    </tr>\n",
       "    <tr>\n",
       "      <th>499</th>\n",
       "      <td>66</td>\n",
       "      <td>2</td>\n",
       "      <td>1</td>\n",
       "      <td>0</td>\n",
       "      <td>4</td>\n",
       "      <td>0</td>\n",
       "    </tr>\n",
       "  </tbody>\n",
       "</table>\n",
       "<p>500 rows × 6 columns</p>\n",
       "</div>"
      ],
      "text/plain": [
       "     AGE  TEST  RESULT  DRUG  DOSAGE  RESISTANCE\n",
       "0     29     2       0     1       0           0\n",
       "1     21     2       0     1       0           0\n",
       "2     42     2       1     0       4           0\n",
       "3     21     2       0     1       0           0\n",
       "4     60     2       0     1       0           0\n",
       "..   ...   ...     ...   ...     ...         ...\n",
       "495    2     0       1     0       1           0\n",
       "496    2     0       1     0       2           1\n",
       "497   62     0       1     0       4           1\n",
       "498   22     2       1     0       4           1\n",
       "499   66     2       1     0       4           0\n",
       "\n",
       "[500 rows x 6 columns]"
      ]
     },
     "execution_count": 5,
     "metadata": {},
     "output_type": "execute_result"
    }
   ],
   "source": [
    "#Encode all categorical variables to numerical\n",
    "df[\"RESULT\"] = lb.fit_transform(df[\"RESULT\"])\n",
    "df[\"DRUG\"] = lb.fit_transform(df[\"DRUG\"])\n",
    "df[\"TEST\"] = lb.fit_transform(df[\"TEST\"])\n",
    "df"
   ]
  },
  {
   "cell_type": "code",
   "execution_count": 8,
   "metadata": {},
   "outputs": [
    {
     "data": {
      "text/html": [
       "<div>\n",
       "<style scoped>\n",
       "    .dataframe tbody tr th:only-of-type {\n",
       "        vertical-align: middle;\n",
       "    }\n",
       "\n",
       "    .dataframe tbody tr th {\n",
       "        vertical-align: top;\n",
       "    }\n",
       "\n",
       "    .dataframe thead th {\n",
       "        text-align: right;\n",
       "    }\n",
       "</style>\n",
       "<table border=\"1\" class=\"dataframe\">\n",
       "  <thead>\n",
       "    <tr style=\"text-align: right;\">\n",
       "      <th></th>\n",
       "      <th>AGE</th>\n",
       "      <th>TEST</th>\n",
       "      <th>RESULT</th>\n",
       "      <th>DRUG</th>\n",
       "      <th>DOSAGE</th>\n",
       "      <th>RESISTANCE</th>\n",
       "    </tr>\n",
       "  </thead>\n",
       "  <tbody>\n",
       "    <tr>\n",
       "      <th>AGE</th>\n",
       "      <td>1.000000</td>\n",
       "      <td>0.013933</td>\n",
       "      <td>-0.004503</td>\n",
       "      <td>0.004503</td>\n",
       "      <td>0.169267</td>\n",
       "      <td>0.008519</td>\n",
       "    </tr>\n",
       "    <tr>\n",
       "      <th>TEST</th>\n",
       "      <td>0.013933</td>\n",
       "      <td>1.000000</td>\n",
       "      <td>-0.341027</td>\n",
       "      <td>0.341027</td>\n",
       "      <td>-0.301713</td>\n",
       "      <td>-0.128172</td>\n",
       "    </tr>\n",
       "    <tr>\n",
       "      <th>RESULT</th>\n",
       "      <td>-0.004503</td>\n",
       "      <td>-0.341027</td>\n",
       "      <td>1.000000</td>\n",
       "      <td>-1.000000</td>\n",
       "      <td>0.928517</td>\n",
       "      <td>0.541197</td>\n",
       "    </tr>\n",
       "    <tr>\n",
       "      <th>DRUG</th>\n",
       "      <td>0.004503</td>\n",
       "      <td>0.341027</td>\n",
       "      <td>-1.000000</td>\n",
       "      <td>1.000000</td>\n",
       "      <td>-0.928517</td>\n",
       "      <td>-0.541197</td>\n",
       "    </tr>\n",
       "    <tr>\n",
       "      <th>DOSAGE</th>\n",
       "      <td>0.169267</td>\n",
       "      <td>-0.301713</td>\n",
       "      <td>0.928517</td>\n",
       "      <td>-0.928517</td>\n",
       "      <td>1.000000</td>\n",
       "      <td>0.484112</td>\n",
       "    </tr>\n",
       "    <tr>\n",
       "      <th>RESISTANCE</th>\n",
       "      <td>0.008519</td>\n",
       "      <td>-0.128172</td>\n",
       "      <td>0.541197</td>\n",
       "      <td>-0.541197</td>\n",
       "      <td>0.484112</td>\n",
       "      <td>1.000000</td>\n",
       "    </tr>\n",
       "  </tbody>\n",
       "</table>\n",
       "</div>"
      ],
      "text/plain": [
       "                 AGE      TEST    RESULT      DRUG    DOSAGE  RESISTANCE\n",
       "AGE         1.000000  0.013933 -0.004503  0.004503  0.169267    0.008519\n",
       "TEST        0.013933  1.000000 -0.341027  0.341027 -0.301713   -0.128172\n",
       "RESULT     -0.004503 -0.341027  1.000000 -1.000000  0.928517    0.541197\n",
       "DRUG        0.004503  0.341027 -1.000000  1.000000 -0.928517   -0.541197\n",
       "DOSAGE      0.169267 -0.301713  0.928517 -0.928517  1.000000    0.484112\n",
       "RESISTANCE  0.008519 -0.128172  0.541197 -0.541197  0.484112    1.000000"
      ]
     },
     "execution_count": 8,
     "metadata": {},
     "output_type": "execute_result"
    }
   ],
   "source": [
    "#conducting correlation among all variables\n",
    "df.corr()"
   ]
  },
  {
   "cell_type": "code",
   "execution_count": 9,
   "metadata": {},
   "outputs": [],
   "source": [
    "#defining the Predictors (X) and Response (y) variables\n",
    "X = df.drop([\"RESISTANCE\"], axis=1)\n",
    "y = df[\"RESISTANCE\"]"
   ]
  },
  {
   "cell_type": "code",
   "execution_count": 13,
   "metadata": {},
   "outputs": [
    {
     "data": {
      "text/plain": [
       "array([[-0.08448509,  0.42829998, -1.25591385,  1.25591385, -1.16613747],\n",
       "       [-0.43687337,  0.42829998, -1.25591385,  1.25591385, -1.16613747],\n",
       "       [ 0.48814586,  0.42829998,  0.79623296, -0.79623296,  1.04454968],\n",
       "       ...,\n",
       "       [ 1.36911656, -2.31721271,  0.79623296, -0.79623296,  1.04454968],\n",
       "       [-0.39282483,  0.42829998,  0.79623296, -0.79623296,  1.04454968],\n",
       "       [ 1.5453107 ,  0.42829998,  0.79623296, -0.79623296,  1.04454968]])"
      ]
     },
     "execution_count": 13,
     "metadata": {},
     "output_type": "execute_result"
    }
   ],
   "source": [
    "# scaling the Predictors\n",
    "scaler = StandardScaler()\n",
    "X = scaler.fit_transform(X)\n",
    "X"
   ]
  },
  {
   "cell_type": "code",
   "execution_count": 14,
   "metadata": {},
   "outputs": [
    {
     "data": {
      "text/plain": [
       "0      0\n",
       "1      0\n",
       "2      0\n",
       "3      0\n",
       "4      0\n",
       "      ..\n",
       "495    0\n",
       "496    1\n",
       "497    1\n",
       "498    1\n",
       "499    0\n",
       "Name: RESISTANCE, Length: 500, dtype: int64"
      ]
     },
     "execution_count": 14,
     "metadata": {},
     "output_type": "execute_result"
    }
   ],
   "source": [
    "y"
   ]
  },
  {
   "cell_type": "code",
   "execution_count": 15,
   "metadata": {},
   "outputs": [],
   "source": [
    "# training and splitting the model \n",
    "X_train, X_test, y_train, y_test = train_test_split(X, y, test_size=.20, random_state=11)"
   ]
  },
  {
   "cell_type": "code",
   "execution_count": 16,
   "metadata": {},
   "outputs": [
    {
     "data": {
      "text/plain": [
       "LogisticRegression(n_jobs=2, random_state=11)"
      ]
     },
     "execution_count": 16,
     "metadata": {},
     "output_type": "execute_result"
    }
   ],
   "source": [
    "#instantiating Logistic Regression and fitting the trained model\n",
    "logistic = LogisticRegression(random_state=11, n_jobs=2)\n",
    "logistic.fit(X_train, y_train)"
   ]
  },
  {
   "cell_type": "code",
   "execution_count": 110,
   "metadata": {},
   "outputs": [],
   "source": [
    "#building a funtion to return the model report and accuracy\n",
    "def scoring (model):\n",
    "    pred = model.predict(X_test)\n",
    "    accuracy = accuracy_score(y_test, model.predict(X_test))\n",
    "    conf_m = classification_report(y_test, model.predict(X_test))\n",
    "    return print(round(accuracy, 4),'\\n\\n', conf_m)"
   ]
  },
  {
   "cell_type": "code",
   "execution_count": 112,
   "metadata": {},
   "outputs": [
    {
     "name": "stdout",
     "output_type": "stream",
     "text": [
      "0.7 \n",
      "\n",
      "               precision    recall  f1-score   support\n",
      "\n",
      "           0       0.80      0.73      0.76        66\n",
      "           1       0.55      0.65      0.59        34\n",
      "\n",
      "    accuracy                           0.70       100\n",
      "   macro avg       0.68      0.69      0.68       100\n",
      "weighted avg       0.71      0.70      0.71       100\n",
      "\n"
     ]
    }
   ],
   "source": [
    "scoring (logistic)"
   ]
  },
  {
   "cell_type": "code",
   "execution_count": null,
   "metadata": {},
   "outputs": [],
   "source": []
  }
 ],
 "metadata": {
  "kernelspec": {
   "display_name": "base",
   "language": "python",
   "name": "python3"
  },
  "language_info": {
   "codemirror_mode": {
    "name": "ipython",
    "version": 3
   },
   "file_extension": ".py",
   "mimetype": "text/x-python",
   "name": "python",
   "nbconvert_exporter": "python",
   "pygments_lexer": "ipython3",
   "version": "3.9.12"
  },
  "orig_nbformat": 4
 },
 "nbformat": 4,
 "nbformat_minor": 2
}
